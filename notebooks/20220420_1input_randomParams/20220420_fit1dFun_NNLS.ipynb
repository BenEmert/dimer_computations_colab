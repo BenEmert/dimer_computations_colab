{
 "cells": [
  {
   "cell_type": "code",
   "execution_count": 73,
   "id": "b1726695-1f83-4980-96ca-ef98745e2833",
   "metadata": {},
   "outputs": [
    {
     "name": "stdout",
     "output_type": "stream",
     "text": [
      "The watermark extension is already loaded. To reload it, use:\n",
      "  %reload_ext watermark\n"
     ]
    }
   ],
   "source": [
    "import os\n",
    "import sys\n",
    "\n",
    "import numpy as np\n",
    "import pandas as pd\n",
    "import scipy.stats\n",
    "import scipy.optimize\n",
    "\n",
    "import itertools\n",
    "\n",
    "import matplotlib as mpl\n",
    "import matplotlib.pyplot as plt\n",
    "import seaborn as sn\n",
    "from plotnine import *\n",
    "#Suppress pivot warning when savining plots with plotnine\n",
    "import warnings\n",
    "warnings.simplefilter(\"ignore\")\n",
    "\n",
    "%load_ext watermark"
   ]
  },
  {
   "cell_type": "code",
   "execution_count": 42,
   "id": "24a08dc3-e4c8-4c4a-bd48-17779acd0bdf",
   "metadata": {},
   "outputs": [],
   "source": [
    "#Set plotting defaults\n",
    "sn.set_style('ticks')\n",
    "mpl.rcParams.update({'text.color': 'black', 'axes.labelcolor': 'black', \n",
    "                     'xtick.color': 'black', 'ytick.color': 'black', 'figure.dpi':100, 'savefig.dpi':300,\n",
    "                     'savefig.bbox': 'tight', 'savefig.transparent': True, 'mathtext.default':'regular'})\n",
    "sn.set_context('notebook')\n",
    "%matplotlib inline\n",
    "%config InlineBackend.figure_format='retina'"
   ]
  },
  {
   "cell_type": "markdown",
   "id": "aadabe19-dad9-476c-a5e9-4b5d926d311c",
   "metadata": {},
   "source": [
    "In 20220420_sim1inputTitration_randomParams.ipynb, we simulated 1-input dimerization networks of various sizes (3-6 monomer species) with latin-hypercube sampled parameters(binding affinities $K$ and accessory monomer concentrations $a$) Given the equilibrium concentration of dimers, try fitting sin and cos functions with a linear combination of dimers. Constrain the output weights to be nonnegative since I believe it will be easier to engineer the corresponding synthetic network. Use [scipy.optimize.nnls](https://docs.scipy.org/doc/scipy/reference/generated/scipy.optimize.nnls.html) to perform the fitting. "
   ]
  },
  {
   "cell_type": "code",
   "execution_count": 43,
   "id": "f766eb95-f782-4ff7-bf6f-c04dde5f3b3a",
   "metadata": {},
   "outputs": [],
   "source": [
    "def nnls_fun(x, b, nrows, ncols):\n",
    "    \"\"\"\n",
    "    Utility function for solving argmin_x || Ax - b ||_2 with x≥0 using scipy.optimize.nnls.\n",
    "    x corresponds to flattened form of A (enabling nnls_fun to by applied along axis of a 2d numpy array).     \n",
    "    Returns 1d array containg the fitted coefficients and the residual. \n",
    "    \"\"\"\n",
    "    A = x.reshape(nrows,ncols)\n",
    "    return np.hstack(scipy.optimize.nnls(A, b))"
   ]
  },
  {
   "cell_type": "code",
   "execution_count": 44,
   "id": "1fb1914f-67f2-46c8-ba62-2af415ba19c8",
   "metadata": {},
   "outputs": [],
   "source": [
    "def fit_dimers_nnls(simfile, target_function, \n",
    "                    m = 3, n_input = 1, norm = 'max'):\n",
    "    \"\"\"\n",
    "    For the input target function, perform non-negative least squares fitting on \n",
    "    the equlibrium dimer concentrations in simfile. \n",
    "    \n",
    "    Parameters\n",
    "    ----------\n",
    "    simfile : string\n",
    "        path to .npy file containing results of the network simulation\n",
    "        Loaded into S_all\n",
    "    target_function : array_like shape (n_titration, )\n",
    "        array containing the output values for fitting linear combinations of dimers\n",
    "        n_titration corresponds to the length of the input titration used for network simulations\n",
    "        n_titration should equal S_all.shape[0]\n",
    "    m : int. Default 3. \n",
    "        Number of monomer species. \n",
    "    n_input : int. Default 1\n",
    "        Number of input monomer species. \n",
    "    norm : string. Default 'max'.\n",
    "        Indicates how to normalize the output concentrations. \n",
    "    Returns\n",
    "    -------\n",
    "    combined_df : DataFrame, shape (n_titration * S_all.shape[2], 4)\n",
    "        target function and fitted output for all parameter universes, long format\n",
    "    fit_df : DataFrame, shape (S_all.shape[2], number of dimers + 2)\n",
    "        fitted output for all parameter universes, wide format\n",
    "    weights: array_like, shape (number,  S_all.shape[2])\n",
    "        fitted dimer weights for all parameter universes\n",
    "    \"\"\"\n",
    "    S_all = np.load(simfile)\n",
    "    \n",
    "    #Note the normalization before nnls fitting on each dimer separately. \n",
    "    #Convenient for putting the dimers on the same scale but probably not realistic biologically.\n",
    "    if norm == 'max':  \n",
    "        S_all = S_all/S_all.max(axis = 0)[np.newaxis,:,:]\n",
    "    \n",
    "    n_titration = S_all.shape[0]\n",
    "    n_dimers = S_all.shape[1]-m\n",
    "    n_univ = S_all.shape[2]\n",
    "    \n",
    "    S_all_dimers = S_all[:,m:,:].reshape(n_titration*n_dimers,n_univ)\n",
    "    \n",
    "    res = np.apply_along_axis(nnls_fun, 0, S_all_dimers, target_function, n_titration, n_dimers)\n",
    "    \n",
    "    weights = res[:n_dimers,:]\n",
    "    resid = res[n_dimers,:]\n",
    "    fit = np.vstack([np.matmul(S_all[:,m:,univ], weights[:,univ]) for univ in range(n_univ)])\n",
    "    \n",
    "    fit_df = pd.DataFrame(fit)\n",
    "    fit_df['univ'] = np.arange(n_univ)\n",
    "    fit_df['resid'] = resid\n",
    "    fit_df_long = fit_df.melt(id_vars=['univ', 'resid'], value_name='y', var_name='x')\n",
    "    \n",
    "    target_fun_df = pd.DataFrame({'univ': ['target']*n_titration,\n",
    "                             'resid': [0.0]*n_titration,\n",
    "                             'x': np.arange(n_titration),\n",
    "                             'y': target_function})\n",
    "    \n",
    "    combined_df = pd.concat((target_fun_df, fit_df_long))\n",
    "    \n",
    "    return combined_df, fit_df, weights"
   ]
  },
  {
   "cell_type": "code",
   "execution_count": 74,
   "id": "3daa040e-05b1-4787-bc20-2d28d4c21031",
   "metadata": {},
   "outputs": [],
   "source": [
    "def plot_best_output(target_function, target_function_name, fit_df, m = 3, \n",
    "                     top_n = 25, save = False, outfileprefix = ''):\n",
    "    \"\"\"\n",
    "    Plot output curves for the target function and the top_n best fit dimerization networks. \n",
    "    \n",
    "    Parameters\n",
    "    ----------\n",
    "    target_function : array_like shape (n_titration, )\n",
    "        array containing the output values for fitting linear combinations of dimers\n",
    "        n_titration corresponds to the length of the input titration used for network simulations\n",
    "    target_function_name : string\n",
    "       Name of the target function. Used for filename. \n",
    "    fit_df : DataFrame, shape (S_all.shape[2], number of dimers + 2)\n",
    "        fitted output for all parameter universes, wide format\n",
    "        Returned from fit_dimers_nnls()\n",
    "    m : int. Default 3. \n",
    "        Number of monomer species.\n",
    "    top_n : int. Default 25.\n",
    "        Maximum rank of the fitted outputs to plot\n",
    "    save : Bool. Default False\n",
    "        If True, save plot figure\n",
    "    outfileprefix : string. Default ''\n",
    "        relative path for saving figure. \n",
    "    Returns\n",
    "    -------\n",
    "    p : plotnine figure object. \n",
    "    \"\"\"\n",
    "    n_titration = len(target_function)\n",
    "    top_df = fit_df.sort_values('resid').head(top_n*n_titration)\n",
    "    top_df['univ'] = pd.Categorical(top_df['univ'], categories= top_df['univ'].unique())\n",
    "    ncol = int(np.sqrt(top_n))\n",
    "    \n",
    "    p = (ggplot(top_df, aes(x= 'x', y='y', group = 1))\n",
    "     + geom_line()\n",
    "     + facet_wrap('~univ', ncol = ncol)\n",
    "     + theme_classic()\n",
    "     + scale_y_continuous(breaks = [0,1])\n",
    "     + theme(strip_background = element_blank(),\n",
    "            axis_text_x=element_blank(),\n",
    "            text = element_text(family='Helvetica', color='black')))\n",
    "    if save:\n",
    "        p.save(f'{outfileprefix}fitCurves_{target_function_name}Fun_{m}M_top{top_n}.pdf', dpi = 300)\n",
    "    return p"
   ]
  },
  {
   "cell_type": "code",
   "execution_count": 75,
   "id": "9415e874-5750-46ea-a3da-7e661052cce4",
   "metadata": {},
   "outputs": [],
   "source": [
    "n_titration = 10\n",
    "target_function_sin = 0.5*(np.sin(np.arange(n_titration))+1)\n",
    "target_function_cos = 0.5*(np.cos(np.arange(n_titration))+1)\n"
   ]
  },
  {
   "cell_type": "code",
   "execution_count": 31,
   "id": "f1423c63-726b-4e69-9fe3-d9e5a21f2104",
   "metadata": {},
   "outputs": [],
   "source": [
    "fit_sin_3N_df, _, _ = fit_dimers_nnls('../data/20220420_1input_randomParams/S_all_3M_1000k.npy',\n",
    "                                      target_function_sin, m=3, n_input=1, norm='max')"
   ]
  },
  {
   "cell_type": "code",
   "execution_count": 34,
   "id": "02f742f6-2e2a-4ee1-9ca1-af3eddfa9b67",
   "metadata": {},
   "outputs": [],
   "source": [
    "outfileprefix = '../plots/20220420_1input_randomParams/'\n",
    "if not os.path.isdir(outfileprefix):\n",
    "    os.mkdir(outfileprefix)"
   ]
  },
  {
   "cell_type": "code",
   "execution_count": 35,
   "id": "eb0475d3-7bf6-459f-9cab-48ae7b6091ef",
   "metadata": {},
   "outputs": [
    {
     "name": "stderr",
     "output_type": "stream",
     "text": [
      "/Users/benjaminemert/miniconda3/envs/py39/lib/python3.9/site-packages/plotnine/ggplot.py:719: PlotnineWarning: Saving 6.4 x 4.8 in image.\n",
      "/Users/benjaminemert/miniconda3/envs/py39/lib/python3.9/site-packages/plotnine/ggplot.py:722: PlotnineWarning: Filename: ../plots/20220420_1input_randomParams/fitCurves_sinFun_3M_top25.pdf\n",
      "/Users/benjaminemert/miniconda3/envs/py39/lib/python3.9/site-packages/plotnine/utils.py:371: FutureWarning: The frame.append method is deprecated and will be removed from pandas in a future version. Use pandas.concat instead.\n"
     ]
    }
   ],
   "source": [
    "_ = plot_best_output(target_function_sin, 'sin', fit_sin_3N_df, m = 3, \n",
    "                     n_titration = 10, top_n = 25, save = True, outfileprefix = outfileprefix)"
   ]
  },
  {
   "cell_type": "code",
   "execution_count": 37,
   "id": "f99a8378-b60c-4ffb-8cc1-a41f1283d549",
   "metadata": {},
   "outputs": [],
   "source": [
    "fit_cos_3M_df, _, _ = fit_dimers_nnls('../data/20220420_1input_randomParams/S_all_3M_1000k.npy',\n",
    "                                      target_function_cos, m=3, n_input=1, norm='max')"
   ]
  },
  {
   "cell_type": "code",
   "execution_count": 46,
   "id": "a9a46709-769c-40ce-9210-4721894fb13f",
   "metadata": {},
   "outputs": [],
   "source": [
    "_ = plot_best_output(target_function_cos, 'cos', fit_cos_3M_df, m = 3, \n",
    "                     n_titration = 10, top_n = 25, save = True, outfileprefix = outfileprefix)"
   ]
  },
  {
   "cell_type": "code",
   "execution_count": 48,
   "id": "8dfe9608-012d-4bb7-a1bd-d43851f141fb",
   "metadata": {},
   "outputs": [],
   "source": [
    "fit_sin_4M_df, _, _ = fit_dimers_nnls('../data/20220420_1input_randomParams/S_all_4M_1000k.npy',\n",
    "                                      target_function_sin, m=4, n_input=1, norm='max')"
   ]
  },
  {
   "cell_type": "code",
   "execution_count": 51,
   "id": "2eb6e54d-a346-4dac-8887-bbeecad1b6d2",
   "metadata": {},
   "outputs": [],
   "source": [
    "_ = plot_best_output(target_function_sin, 'sin', fit_sin_4M_df, m = 4, \n",
    "                     n_titration = 10, top_n = 25, save = True, outfileprefix = outfileprefix)"
   ]
  },
  {
   "cell_type": "code",
   "execution_count": 52,
   "id": "3851ae7d-190d-4462-a23d-9ab2be034feb",
   "metadata": {},
   "outputs": [],
   "source": [
    "fit_cos_4M_df, _, _ = fit_dimers_nnls('../data/20220420_1input_randomParams/S_all_4M_1000k.npy',\n",
    "                                      target_function_cos, m=4, n_input=1, norm='max')"
   ]
  },
  {
   "cell_type": "code",
   "execution_count": 53,
   "id": "c4026230-d5b8-41f3-8de0-c69c904827a9",
   "metadata": {},
   "outputs": [],
   "source": [
    "_ = plot_best_output(target_function_cos, 'cos', fit_cos_4M_df, m = 4, \n",
    "                     n_titration = 10, top_n = 25, save = True, outfileprefix = outfileprefix)"
   ]
  },
  {
   "cell_type": "code",
   "execution_count": 54,
   "id": "2443a001-a390-4f8f-a4b1-e9d9eae3745e",
   "metadata": {},
   "outputs": [],
   "source": [
    "fit_sin_5M_df, _, _ = fit_dimers_nnls('../data/20220420_1input_randomParams/S_all_5M_1000k.npy',\n",
    "                                      target_function_sin, m=5, n_input=1, norm='max')"
   ]
  },
  {
   "cell_type": "code",
   "execution_count": 55,
   "id": "bf78c2d1-3377-47a8-a4b1-39a97c740966",
   "metadata": {},
   "outputs": [],
   "source": [
    "_ = plot_best_output(target_function_sin, 'sin', fit_sin_5M_df, m = 5, \n",
    "                     n_titration = 10, top_n = 25, save = True, outfileprefix = outfileprefix)"
   ]
  },
  {
   "cell_type": "code",
   "execution_count": 56,
   "id": "259fe7ef-531d-4369-86ab-0137326d844f",
   "metadata": {},
   "outputs": [],
   "source": [
    "fit_cos_5M_df, _, _ = fit_dimers_nnls('../data/20220420_1input_randomParams/S_all_5M_1000k.npy',\n",
    "                                      target_function_cos, m=5, n_input=1, norm='max')"
   ]
  },
  {
   "cell_type": "code",
   "execution_count": 57,
   "id": "358a75a3-e1a6-49ef-8d3c-811db18d7372",
   "metadata": {},
   "outputs": [],
   "source": [
    "_ = plot_best_output(target_function_cos, 'cos', fit_cos_5M_df, m = 5, \n",
    "                     n_titration = 10, top_n = 25, save = True, outfileprefix = outfileprefix)"
   ]
  },
  {
   "cell_type": "code",
   "execution_count": 58,
   "id": "9f116aab-e651-4dcf-9124-823230555ce9",
   "metadata": {},
   "outputs": [],
   "source": [
    "fit_sin_6M_df, _, _ = fit_dimers_nnls('../data/20220420_1input_randomParams/S_all_6M_1000k.npy',\n",
    "                                      target_function_sin, m=6, n_input=1, norm='max')"
   ]
  },
  {
   "cell_type": "code",
   "execution_count": 59,
   "id": "a1af02b5-e301-49b4-b692-9da1c4e82fe9",
   "metadata": {},
   "outputs": [],
   "source": [
    "_ = plot_best_output(target_function_sin, 'sin', fit_sin_6M_df, m = 6, \n",
    "                     n_titration = 10, top_n = 25, save = True, outfileprefix = outfileprefix)"
   ]
  },
  {
   "cell_type": "code",
   "execution_count": 60,
   "id": "67268ed4-2a31-423f-8de2-854cf14f6620",
   "metadata": {},
   "outputs": [],
   "source": [
    "fit_cos_6M_df, _, _ = fit_dimers_nnls('../data/20220420_1input_randomParams/S_all_6M_1000k.npy',\n",
    "                                      target_function_cos, m=6, n_input=1, norm='max')"
   ]
  },
  {
   "cell_type": "code",
   "execution_count": 61,
   "id": "733b5ebc-ce56-4cfc-b8f4-56e24e90763f",
   "metadata": {},
   "outputs": [],
   "source": [
    "_ = plot_best_output(target_function_cos, 'cos', fit_cos_6M_df, m = 6, \n",
    "                     n_titration = 10, top_n = 25, save = True, outfileprefix = outfileprefix)"
   ]
  },
  {
   "cell_type": "code",
   "execution_count": 76,
   "id": "cb20006f-1c0c-4180-bbb4-c7ff23d22cae",
   "metadata": {},
   "outputs": [
    {
     "name": "stdout",
     "output_type": "stream",
     "text": [
      "matplotlib: 3.5.1\n",
      "numpy     : 1.20.3\n",
      "seaborn   : 0.11.2\n",
      "sys       : 3.9.7 (default, Sep 16 2021, 08:50:36) \n",
      "[Clang 10.0.0 ]\n",
      "pandas    : 1.4.1\n",
      "plotnine  : 0.8.0\n",
      "scipy     : 1.7.3\n",
      "\n",
      "plotnine: 0.8.0\n",
      "\n"
     ]
    }
   ],
   "source": [
    "%watermark --iversions\n",
    "%watermark -p plotnine"
   ]
  }
 ],
 "metadata": {
  "kernelspec": {
   "display_name": "Python 3 (ipykernel)",
   "language": "python",
   "name": "python3"
  },
  "language_info": {
   "codemirror_mode": {
    "name": "ipython",
    "version": 3
   },
   "file_extension": ".py",
   "mimetype": "text/x-python",
   "name": "python",
   "nbconvert_exporter": "python",
   "pygments_lexer": "ipython3",
   "version": "3.9.7"
  }
 },
 "nbformat": 4,
 "nbformat_minor": 5
}
