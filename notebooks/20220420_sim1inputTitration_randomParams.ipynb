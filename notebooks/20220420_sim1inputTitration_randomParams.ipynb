{
 "cells": [
  {
   "cell_type": "code",
   "execution_count": 1,
   "id": "3e32212a-b20f-4d71-9331-390c2ded6fb1",
   "metadata": {},
   "outputs": [],
   "source": [
    "import os\n",
    "import sys\n",
    "\n",
    "import numpy as np\n",
    "import pandas as pd\n",
    "import scipy.stats\n",
    "import itertools\n",
    "\n",
    "%load_ext watermark\n"
   ]
  },
  {
   "cell_type": "markdown",
   "id": "208a2591-e3ff-4e10-ab33-1beb4756d884",
   "metadata": {},
   "source": [
    "If you need to install eqtk, you can uncomment and run the cell below. Or check out https://eqtk.github.io/getting_started/eqtk_installation.html. It can take several seconds to load the package into python. Additionally, the first time you run the equilibrium solver (eqtk.solve) may take longer than subsequent calls as the program compiles the code with Numba\n"
   ]
  },
  {
   "cell_type": "code",
   "execution_count": 2,
   "id": "c8df7619-5ad7-4196-80de-140dcb1fa044",
   "metadata": {},
   "outputs": [],
   "source": [
    "# !{sys.executable} -m pip install --upgrade eqtk"
   ]
  },
  {
   "cell_type": "code",
   "execution_count": 3,
   "id": "17565720-6344-47c9-be8c-9f52ae8b5def",
   "metadata": {},
   "outputs": [],
   "source": [
    "import eqtk"
   ]
  },
  {
   "cell_type": "code",
   "execution_count": 4,
   "id": "18548af3-09bc-416d-8315-76d79dcb6dfb",
   "metadata": {},
   "outputs": [],
   "source": [
    "#load some utility functions\n",
    "pwd = os.path.abspath('../')\n",
    "sys.path.append(os.path.join(pwd, 'code/')) \n",
    "from utilities import *"
   ]
  },
  {
   "cell_type": "markdown",
   "id": "07a4710d-2d67-4bee-b782-16bc5be049b5",
   "metadata": {},
   "source": [
    "Simulate single layer dimerization network with a single input monomer (i.e. $x \\in R$). \n",
    "Use latin hypercube sampling (via https://docs.scipy.org/doc/scipy/reference/generated/scipy.stats.qmc.LatinHypercube.html) to draw $K$ values from the range ($10^{-6}$, $10^6$) and accessory monomer levels ($a$) from the range ($10^{-3}$, $10^3$).\n",
    "\n",
    "Additionally, for each sampled parameter set, iterate through each parameter, titrating it's value while hollding the remainig parameters fixed. \n"
   ]
  },
  {
   "cell_type": "code",
   "execution_count": 5,
   "id": "2f13a8b9-928e-4a1b-b209-2521ee02e722",
   "metadata": {},
   "outputs": [],
   "source": [
    "def sample_params(m, k, lb, ub, centered = True, seed = 42):\n",
    "    \"\"\"\n",
    "    For network of size m, sample k parameter sets (each parameter set includes Kij values and accessory monomer levels) \n",
    "    from log uniform latin hypercube with log10(lower bounds) = lb and log10(upper bounds) = ub. \n",
    "    \"\"\"\n",
    "    num_rxns = number_of_dimers(m)\n",
    "    num_params = num_rxns + m-1 #assuming 1-input monomer\n",
    "    lhs_sampler =  scipy.stats.qmc.LatinHypercube(d=num_params, centered=centered, seed=seed)\n",
    "    param_sets = lhs_sampler.random(n=k)\n",
    "    param_sets = scipy.stats.qmc.scale(param_sets, lb, ub)\n",
    "    return np.power(10, param_sets)\n"
   ]
  },
  {
   "cell_type": "code",
   "execution_count": 10,
   "id": "1388dd44-c13c-45a7-994a-0a1f77ebe19c",
   "metadata": {},
   "outputs": [],
   "source": [
    "def run_eqtk(N, C0, params, num_rxns, acc_monomer_ind):\n",
    "    \"\"\"\n",
    "    Run eqtk.solve given the input stoichiometry matrix (N), initial concentrations (C0), and parameters (params)\n",
    "    Parameters includes includes Kij values and accessory monomer levels. \n",
    "    \"\"\"\n",
    "    K = params[:num_rxns]\n",
    "    C0[:,acc_monomer_ind] = params[num_rxns:]\n",
    "\n",
    "    return eqtk.solve(c0=C0, N=N, K=K)\n",
    "\n"
   ]
  },
  {
   "cell_type": "code",
   "execution_count": 13,
   "id": "11a0dd04-629b-487f-b436-ef0ea2947633",
   "metadata": {},
   "outputs": [],
   "source": [
    "def simulate_networks(m, t = 10, k = 100, n = 5, input_lb = -3, input_ub = 3, \n",
    "                      param_sets = None, param_lb = None, param_ub = None,\n",
    "                      centered = True, seed = 42, titrate_params = True, \n",
    "                      save = False, outfileprefix = ''):\n",
    "    \"\"\"\n",
    "    Run simulations for dimer networks of size m and input titration size t \n",
    "    with k different parameter universes. \n",
    "    \n",
    "    Parameters\n",
    "    ----------\n",
    "    m : int. \n",
    "        Number of monomer species. \n",
    "    t : int. Default 10. \n",
    "        Number of values to titrate the input monomer species. \n",
    "        Values spaced evenly on a log10 scale\n",
    "    k : int. Default 100\n",
    "        Number of parameter sets to sample. \n",
    "    n : int. Default 5. \n",
    "        If titrate_params = True, n indicates the number of values to titrate each parameter\n",
    "    input_lb : int. Default -3\n",
    "        lower bound for titrating the input monomer species. log10 scale\n",
    "    input_ub : int. Default 3\n",
    "        upper bound for titrating the input monomer species. log10 scale\n",
    "    param_sets : None or array_like shape (k, num_parameters). Default None. \n",
    "        Parameters sets for simulating dimerization networks. \n",
    "        If None, sample_params to draw parameters from latin-hypercube. \n",
    "    param_lb : array_like shape (num_parameters,) \n",
    "        Lower bounds for sampling network parameters. \n",
    "    param_ub : array_like shape (num_parameters,) \n",
    "        Upper bounds for sampling network parameters\n",
    "    centered : bool. Default True. \n",
    "        Indicates whether to center the draws from the latin-hypercube sampler\n",
    "    seed : int. Default 42. \n",
    "        seed for LHS sampler\n",
    "    titrate_params : Bool. Default True. \n",
    "        If true, then for each parameter universe, iterate through each parameter,\n",
    "        titrating it's value while hollding the remainig parameters fixed.  \n",
    "    save : Bool. Default False\n",
    "        If True, save the parameter sets, initial concentration array (C0) and equlibrium concentration array (S_all)\n",
    "    outfileprefix : string. Default ''\n",
    "        relative path for saving figure.     \n",
    "    Returns\n",
    "    -------\n",
    "    param_sets : array_like shape (k, num_parameters)\n",
    "        Each parameter set (row) contains the bindnig affinities (Kij) and \n",
    "        accessory monomer concentrations (a) use to solve for equilibrium concentrations of \n",
    "        monomers & dimers. \n",
    "    C0 : array_like shape (t, number of species)\n",
    "        Initial concentration array used for eqtk.solve\n",
    "    S_all : array_like \n",
    "        Equlibrium concentration of all species (monomers & dimers)\n",
    "        for all parameter sets. \n",
    "        If titrate_params = True then shape (t, num_species, k, num_params, n)\n",
    "        If titrate_params = False then shape then shape (t, num_species, k)\n",
    "        \n",
    "    \"\"\"\n",
    "    #Create stoichiometry matrix and initial concnetration matrix \n",
    "    N = make_nXn_stoich_matrix(m)\n",
    "    num_rxns = N.shape[0]\n",
    "    M0_min = [input_lb] + [0] * (m-1)\n",
    "    M0_max = [input_ub] + [0] * (m-1)\n",
    "    num_conc = [t] + [1] * (m-1)\n",
    "\n",
    "    C0 = make_C0_grid(m, M0_min=M0_min, M0_max=M0_max, num_conc=num_conc)\n",
    "    \n",
    "    num_params = num_rxns + (m-1)\n",
    "        \n",
    "    acc_monomer_ind = np.arange(1,m)\n",
    "    \n",
    "    #Parameter bounds for sampling and for titration\n",
    "    if param_lb is None:\n",
    "        param_lb = [-6]*num_rxns + [-3]*(m-1)\n",
    "\n",
    "    if param_ub is None:\n",
    "        param_ub = [6]*num_rxns + [3]*(m-1)\n",
    "            \n",
    "    if param_sets is None:\n",
    "        #Generate random parameter sets\n",
    "        param_sets = sample_params(m, k, param_lb, param_ub, centered=centered, seed=seed)\n",
    "    \n",
    "    if titrate_params:\n",
    "        S_all = np.zeros((C0.shape[0], C0.shape[1], k, num_params, n))\n",
    "        for pset_index in range(k):\n",
    "            for param_index in range(num_params):\n",
    "                pset_new = np.tile(param_sets[pset_index], (n, 1))\n",
    "                #Titrate param\n",
    "                param_titration = np.logspace(param_lb[param_index], param_ub[param_index], n)\n",
    "                pset_new[:,param_index] = param_titration\n",
    "\n",
    "                for titration_index in range(n):\n",
    "                    S_all[:,:,pset_index,param_index,titration_index] = run_eqtk(N, C0.copy(), pset_new[titration_index], num_rxns, acc_monomer_ind)\n",
    "        if save:\n",
    "            np.save(f'{outfileprefix}/param_sets_{m}M_{k}k_paramTitration.npy', param_sets)\n",
    "            np.save(f'{outfileprefix}/C0_{m}M_{k}k_paramTitration.npy', C0)\n",
    "            np.save(f'{outfileprefix}S_all_{m}M_{k}k_paramTitration.npy', S_all)\n",
    "    else:\n",
    "        S_all = np.zeros((C0.shape[0], C0.shape[1], k))\n",
    "        for pset_index, pset in enumerate(param_sets):\n",
    "            S_all[:,:,pset_index] = run_eqtk(N, C0.copy(), pset, num_rxns, acc_monomer_ind)\n",
    "        if save:\n",
    "            np.save(f'{outfileprefix}param_sets_{m}M_{k}k.npy', param_sets)\n",
    "            np.save(f'{outfileprefix}C0_{m}M_{k}k.npy', C0)\n",
    "            np.save(f'{outfileprefix}S_all_{m}M_{k}k.npy', S_all)\n",
    "    return param_sets, C0, S_all\n",
    "                "
   ]
  },
  {
   "cell_type": "markdown",
   "id": "9f4466b6-bc0d-44f0-86cd-301c2a9ef5f4",
   "metadata": {},
   "source": [
    "Run simulations for networks with 3-6 monomer species. For each network size, sample 100 different initial parameter sets and titrate each parameter through 5 log-spaced levels. "
   ]
  },
  {
   "cell_type": "code",
   "execution_count": 6,
   "id": "95459be8-c00d-4afb-a15e-6b31848691fd",
   "metadata": {},
   "outputs": [],
   "source": [
    "outfileprefix = '../data/20220420_1input_randomParams/'\n",
    "if not os.path.isdir(outfileprefix):\n",
    "    os.mkdir(outfileprefix)\n",
    "    "
   ]
  },
  {
   "cell_type": "code",
   "execution_count": 16,
   "id": "a5b691f9-e3ee-47c2-8c50-49fbfb150ce0",
   "metadata": {},
   "outputs": [],
   "source": [
    "param_sets_3M, C0_3M, S_all_3M = simulate_networks(m = 3, t = 10, k = 100, n = 5, \n",
    "                                                   input_lb = -3, input_ub = 3,\n",
    "                                                   centered = True, seed = 42, save=True, \n",
    "                                                   outfileprefix=outfileprefix)\n"
   ]
  },
  {
   "cell_type": "code",
   "execution_count": 18,
   "id": "c1d9e235-3ef0-4dda-9d58-f1e0500bdc01",
   "metadata": {},
   "outputs": [],
   "source": [
    "#4 monomer network\n",
    "_, _, _ = simulate_networks(m = 4, t = 10, k = 100, n = 5, \n",
    "                            input_lb = -3, input_ub = 3, \n",
    "                            centered = True, seed = 42, save=True, \n",
    "                            outfileprefix=outfileprefix)\n"
   ]
  },
  {
   "cell_type": "code",
   "execution_count": 19,
   "id": "c5e49bf2-476b-49e6-b76a-f1d5634f99f1",
   "metadata": {},
   "outputs": [],
   "source": [
    "#5 monomer network\n",
    "_, _, _ = simulate_networks(m = 5, t = 10, k = 100, n = 5, \n",
    "                            input_lb = -3, input_ub = 3, \n",
    "                            centered = True, seed = 42, save=True, \n",
    "                            outfileprefix=outfileprefix)\n"
   ]
  },
  {
   "cell_type": "code",
   "execution_count": 20,
   "id": "3b637a59-f654-4358-83a8-11efc1569234",
   "metadata": {},
   "outputs": [],
   "source": [
    "#6 monomer network\n",
    "_, _, _ = simulate_networks(m = 6, t = 10, k = 100, n = 5, \n",
    "                            input_lb = -3, input_ub = 3, \n",
    "                            centered = True, seed = 42, save=True,\n",
    "                            outfileprefix=outfileprefix)\n"
   ]
  },
  {
   "cell_type": "markdown",
   "id": "5730b736-25d2-469f-b123-5fd66cdac2c6",
   "metadata": {},
   "source": [
    "Also simulate 1000 random parameter sets for different sized networks without titrating any of the parameters. "
   ]
  },
  {
   "cell_type": "code",
   "execution_count": 21,
   "id": "86e61715-a288-46be-9277-86fffb8f0e6a",
   "metadata": {},
   "outputs": [],
   "source": [
    "_, _, _ = simulate_networks(m = 3, k = 1000, input_lb = -3, input_ub = 3, \n",
    "                            centered = True, seed = 42, titrate_params = False,\n",
    "                            save=True, outfileprefix=outfileprefix)\n"
   ]
  },
  {
   "cell_type": "code",
   "execution_count": 22,
   "id": "91c8272d-aea6-4711-94d1-ddb3c3576d3e",
   "metadata": {},
   "outputs": [],
   "source": [
    "_, _, _ = simulate_networks(m = 4, k = 1000, input_lb = -3, input_ub = 3, \n",
    "                            centered = True, seed = 42, titrate_params = False,\n",
    "                            save=True, outfileprefix=outfileprefix)\n"
   ]
  },
  {
   "cell_type": "code",
   "execution_count": 23,
   "id": "540a2194-2481-4297-8b14-39b93b6911fb",
   "metadata": {},
   "outputs": [],
   "source": [
    "_, _, _ = simulate_networks(m = 5, k = 1000, input_lb = -3, input_ub = 3, \n",
    "                            centered = True, seed = 42, titrate_params = False,\n",
    "                            save=True, outfileprefix=outfileprefix)"
   ]
  },
  {
   "cell_type": "code",
   "execution_count": 24,
   "id": "5ae10e67-3426-4d7e-947e-8b0ffb91db83",
   "metadata": {},
   "outputs": [],
   "source": [
    "_, _, _ = simulate_networks(m = 6, k = 1000, input_lb = -3, input_ub = 3, \n",
    "                            centered = True, seed = 42, titrate_params = False,\n",
    "                            save=True, outfileprefix=outfileprefix)"
   ]
  },
  {
   "cell_type": "markdown",
   "id": "896fe356-d676-47c0-974b-24003867007e",
   "metadata": {},
   "source": [
    "Move to 20220420_plot1inputTitration_randomParams.ipynb notebook for plotting"
   ]
  },
  {
   "cell_type": "code",
   "execution_count": 7,
   "id": "0715c1fc-501a-42c0-8374-ca332b59bc31",
   "metadata": {},
   "outputs": [
    {
     "name": "stdout",
     "output_type": "stream",
     "text": [
      "pandas: 1.4.1\n",
      "numpy : 1.20.3\n",
      "sys   : 3.9.7 (default, Sep 16 2021, 08:50:36) \n",
      "[Clang 10.0.0 ]\n",
      "scipy : 1.7.3\n",
      "eqtk  : 0.1.2\n",
      "\n"
     ]
    }
   ],
   "source": [
    "%watermark --iversions\n"
   ]
  },
  {
   "cell_type": "code",
   "execution_count": null,
   "id": "92a7be93-19f5-47f4-9c65-c30199076c7d",
   "metadata": {},
   "outputs": [],
   "source": []
  }
 ],
 "metadata": {
  "kernelspec": {
   "display_name": "Python 3 (ipykernel)",
   "language": "python",
   "name": "python3"
  },
  "language_info": {
   "codemirror_mode": {
    "name": "ipython",
    "version": 3
   },
   "file_extension": ".py",
   "mimetype": "text/x-python",
   "name": "python",
   "nbconvert_exporter": "python",
   "pygments_lexer": "ipython3",
   "version": "3.9.7"
  }
 },
 "nbformat": 4,
 "nbformat_minor": 5
}
