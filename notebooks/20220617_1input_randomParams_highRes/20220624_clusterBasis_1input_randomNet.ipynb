{
 "cells": [
  {
   "cell_type": "markdown",
   "id": "c4d75a6f-61a4-4df4-9871-77176202f5d1",
   "metadata": {},
   "source": [
    "Compute basis functions for clustering of dimer network outputs. "
   ]
  },
  {
   "cell_type": "code",
   "execution_count": 1,
   "id": "56bed5ea-0a1a-4832-9a37-9cc3350b19f6",
   "metadata": {},
   "outputs": [],
   "source": [
    "import os\n",
    "import sys\n",
    "import numpy as np\n",
    "import pandas as pd\n",
    "import eqtk\n",
    "\n",
    "#For plotting\n",
    "import matplotlib as mpl\n",
    "import matplotlib.pyplot as plt\n",
    "import seaborn as sn\n",
    "import plotnine as p9 #easier for some things\n",
    "\n",
    "#For clustering\n",
    "from fastdist import fastdist\n",
    "import scipy.cluster.hierarchy as hcluster\n",
    "from scipy.cluster.vq import whiten\n",
    "from scipy.cluster.hierarchy import dendrogram, linkage, cut_tree\n",
    "from scipy.spatial.distance import pdist\n",
    "\n"
   ]
  },
  {
   "cell_type": "code",
   "execution_count": 2,
   "id": "c789ad94-1b02-4341-b6f8-5d1b3b7341b1",
   "metadata": {},
   "outputs": [],
   "source": [
    "pwd = os.path.abspath('../..')\n",
    "sys.path.append(os.path.join(pwd, 'code/')) \n",
    "import utilities\n",
    "from utilities import *"
   ]
  },
  {
   "cell_type": "code",
   "execution_count": null,
   "id": "cb484205-cb75-498e-9763-d7d42df4cc14",
   "metadata": {},
   "outputs": [],
   "source": [
    "#Set plotting defaults\n",
    "sn.set_style('ticks')\n",
    "mpl.rcParams.update({'text.color': 'black', 'axes.labelcolor': 'black', \n",
    "                     'xtick.color': 'black', 'ytick.color': 'black', 'figure.dpi':100, 'savefig.dpi':300,\n",
    "                     'savefig.bbox': 'tight', 'savefig.transparent': True, 'mathtext.default':'regular'})\n",
    "sn.set_context('notebook')\n",
    "%matplotlib inline\n",
    "%config InlineBackend.figure_format='retina'"
   ]
  },
  {
   "cell_type": "code",
   "execution_count": 6,
   "id": "93ec7afb-e0a3-422c-a6e1-32d86e1fe843",
   "metadata": {},
   "outputs": [],
   "source": [
    "indir = '../../data/20220617_1input_randomParams_highRes/'"
   ]
  },
  {
   "cell_type": "code",
   "execution_count": 9,
   "id": "1176aec0-4d13-4783-9d95-9512d66fae05",
   "metadata": {},
   "outputs": [],
   "source": [
    "def scale_axis(mat, axis=0):\n",
    "    mat_mn = np.expand_dims(mat.mean(axis = axis), axis)\n",
    "    mat_sd = np.expand_dims(mat.std(axis = 0), axis)\n",
    "    mat_scaled = (mat - mat_mn)/mat_sd\n",
    "    return mat_scaled"
   ]
  },
  {
   "cell_type": "code",
   "execution_count": 10,
   "id": "13d488b6-6226-4881-82be-4836e42db19d",
   "metadata": {},
   "outputs": [],
   "source": [
    "cluster_counts_all = [0] * 4\n",
    "cluster_basis_all = [0] * 4\n",
    "for m in range(4):\n",
    "    clusters_mat = np.load(os.path.join(indir, f'hierarchical_clustering/hc_{m+3}M_1000univ_clusters_thresh3.npy'))\n",
    "    cluster_counts = np.apply_along_axis(lambda x: len(np.unique(x)), 1, clusters_mat)\n",
    "    cluster_counts_all[m] = cluster_counts\n",
    "    \n",
    "    #Now compute basis curves\n",
    "    outmat = np.load(os.path.join(indir, f'output_{m+3}M_LHSsample_1000k.npy'))\n",
    "\n",
    "    n_univ = clusters_mat.shape[0]\n",
    "    basis_combined = [0]*n_univ\n",
    "    for univ in range(n_univ):\n",
    "        outmat_scaled = scale_axis(outmat[:,univ,:], axis = 0)\n",
    "        cluster_labels = clusters_mat[univ,:]\n",
    "        clusters = np.unique(cluster_labels)\n",
    "        basis = np.zeros((len(clusters), outmat_scaled.shape[0]))\n",
    "        for i, clust in enumerate(clusters):\n",
    "            cluster_ind = np.nonzero(cluster_labels == clust)[0]\n",
    "            outmat_clust = outmat_scaled[:,cluster_ind]\n",
    "            basis[i,:] = outmat_clust.mean(axis=1)\n",
    "        basis_combined[univ] = basis\n",
    "    \n",
    "    cluster_basis_all[m] = basis_combined"
   ]
  },
  {
   "cell_type": "code",
   "execution_count": 45,
   "id": "a2e56ea1-0ac4-468d-9568-91df93013366",
   "metadata": {},
   "outputs": [],
   "source": [
    "outdir = '../../data/20220617_1input_randomParams_highRes/hierarchical_clustering/'"
   ]
  },
  {
   "cell_type": "code",
   "execution_count": 46,
   "id": "baf7a369-ddc2-412c-82a3-f5f6d3dd4f9b",
   "metadata": {},
   "outputs": [],
   "source": [
    "for m in range(4):\n",
    "    cluster_basis = np.vstack(cluster_basis_all[m]).T\n",
    "    \n",
    "    univ_labels = np.repeat(np.arange(1000), cluster_counts_all[m])\n",
    "    \n",
    "    np.save(os.path.join(outdir, f'hc_{m}M_1000univ_clusterBasis_thresh3.npy'), cluster_basis)\n",
    "    np.save(os.path.join(outdir, f'hc_{m}M_1000univ_clusterUnivLabels_thresh3.npy'), univ_labels)\n"
   ]
  },
  {
   "cell_type": "markdown",
   "id": "9c8a958b-c362-4b7e-829e-b92ca82ddf04",
   "metadata": {},
   "source": [
    "Save array for some of the universes with the greatest numbers of clusters. Also plot the curves"
   ]
  },
  {
   "cell_type": "code",
   "execution_count": 58,
   "id": "56264f98-5adf-480c-8c3b-4d5249e30fd4",
   "metadata": {},
   "outputs": [],
   "source": [
    "def plot_outcurves_clustered2(outmat, cluster_labels, shaded='max-min', clusters = None, \n",
    "                             percentiles=(0.05, 0.95), sample_n = 10, xticks = [0,4,9],\n",
    "                             xticklabels = [-3,0,3], add_legend = False, plot_width=7, plot_height=10):\n",
    "    \"\"\"\n",
    "    \"\"\"\n",
    "    if clusters is None: #plot all clusters  \n",
    "        clusters = np.unique(cluster_labels)\n",
    "    \n",
    "    n_clusters = len(clusters)    \n",
    "    # n_outweights = outmat.shape[2]\n",
    "    n_titration = outmat.shape[0]\n",
    "    \n",
    "    xticklabels = [f'$10^{{{i}}}$' for i in xticklabels]\n",
    "    fig, axes = plt.subplots(2, n_clusters, figsize=(n_clusters*plot_width, plot_height), squeeze=False, constrained_layout=True)\n",
    "    for i, clust in enumerate(clusters):\n",
    "        cluster_ind = np.nonzero(cluster_labels == clust)[0]\n",
    "        outmat_clust = outmat[:,cluster_ind]\n",
    "        clust_percent = np.round(outmat_clust.shape[1]/outmat.shape[1] * 100, 2)\n",
    "        \n",
    "        #Plot cluster average on the top row\n",
    "        cluster_mean = outmat_clust.mean(axis=1)\n",
    "\n",
    "        if shaded == 'max-min':\n",
    "            cluster_lb = outmat_clust.min(axis=1)\n",
    "            cluster_ub = outmat_clust.max(axis=1)\n",
    "            label = 'max-min'\n",
    "        elif shaded == 'percentile':\n",
    "            cluster_lb = np.percentile(outmat_clust, percentiles[0], axis = 1)\n",
    "            cluster_ub = np.percentile(outmat_clust, percentiles[1], axis = 1)\n",
    "            label = f'{percentiles[0]}-{percentiles[1]} percentile'\n",
    "\n",
    "        axes[(0,i)].plot(np.arange(n_titration), cluster_mean, label='average')\n",
    "        axes[(0,i)].fill_between(np.arange(n_titration), cluster_lb, cluster_ub, alpha=0.2, label=label)\n",
    "        \n",
    "        #plot example curves on the bottom row\n",
    "        if sample_n is not None and sample_n < outmat_clust.shape[1]:\n",
    "            rand_ind = np.random.choice(np.arange(outmat_clust.shape[1]), size=sample_n, replace=False)\n",
    "            outmat_clust = outmat_clust[:,rand_ind]\n",
    "        for j in range(outmat_clust.shape[1]):\n",
    "            axes[(1,i)].plot(np.arange(n_titration), outmat_clust[:,j])\n",
    "        \n",
    "        #Format axes\n",
    "        axes[(0,i)].set(ylabel='out',xticks = xticks, xticklabels = xticklabels,\n",
    "                        title=f'cluster: {clust}, {clust_percent}%')\n",
    "        axes[(1,i)].set(ylabel='out',xticks = xticks, xticklabels = xticklabels,\n",
    "                        title=f'example curves:')\n",
    "        if add_legend:\n",
    "                axes[(0,i)].legend(bbox_to_anchor=(1.05, 1), loc=2, borderaxespad=0)\n",
    "\n",
    "    return fig, axes\n",
    "        "
   ]
  },
  {
   "cell_type": "code",
   "execution_count": 74,
   "id": "0b2d1aa8-aec5-4af3-bd3b-fea923ff0819",
   "metadata": {},
   "outputs": [
    {
     "data": {
      "text/plain": [
       "'../../data/20220617_1input_randomParams_highRes/'"
      ]
     },
     "execution_count": 74,
     "metadata": {},
     "output_type": "execute_result"
    }
   ],
   "source": [
    "indir"
   ]
  },
  {
   "cell_type": "code",
   "execution_count": 80,
   "id": "de5e8563-1123-4c94-8bd1-e90e9d6957b8",
   "metadata": {},
   "outputs": [],
   "source": [
    "for m in range(4):\n",
    "    clusters_mat = np.load(os.path.join(indir, f'hierarchical_clustering/hc_{m+3}M_1000univ_clusters_thresh3.npy'))\n",
    "\n",
    "    clust_sorted_desc_ind= np.argsort(-1*cluster_counts_all[m])\n",
    "    top_univ = clust_sorted_desc_ind[0]\n",
    "    \n",
    "    #save basis functions for the universe with the most clusters\n",
    "    cluster_basis_top_univ = cluster_basis_all[m][top_univ]\n",
    "    np.save(os.path.join(outdir, f'hc_{m+3}M_clusterBasis_univ{top_univ}_thresh3.npy'), cluster_basis_top_univ)\n",
    "    \n",
    "    #Plot basis curves for the top univ\n",
    "    outmat = np.load(os.path.join(indir, f'output_{m+3}M_LHSsample_1000k.npy'))\n",
    "    outmat_scaled = scale_axis(outmat[:,top_univ,:])\n",
    "\n",
    "    fig1, axes1 = plot_outcurves_clustered2(outmat_scaled, clusters_mat[top_univ,:], \n",
    "                                               shaded='max-min',\n",
    "                                               xticks = [0,49,99],\n",
    "                                               xticklabels = [-3,0,3], add_legend = True)\n",
    "    fig1.suptitle(f'Universe {top_univ}')\n",
    "    fig1.savefig(f'../../plots/20220617_1input_randomParams_highRes/hierarchical_clustering/hc_curves_{m+3}M_univ{top_univ}_thresh3.pdf')\n",
    "    plt.close()"
   ]
  }
 ],
 "metadata": {
  "kernelspec": {
   "display_name": "Python 3 (ipykernel)",
   "language": "python",
   "name": "python3"
  },
  "language_info": {
   "codemirror_mode": {
    "name": "ipython",
    "version": 3
   },
   "file_extension": ".py",
   "mimetype": "text/x-python",
   "name": "python",
   "nbconvert_exporter": "python",
   "pygments_lexer": "ipython3",
   "version": "3.9.7"
  }
 },
 "nbformat": 4,
 "nbformat_minor": 5
}
