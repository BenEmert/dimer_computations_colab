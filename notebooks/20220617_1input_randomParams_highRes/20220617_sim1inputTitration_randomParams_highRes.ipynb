{
 "cells": [
  {
   "cell_type": "code",
   "execution_count": 6,
   "id": "d9e3348a-6b64-48d9-85da-9f76e73cdb71",
   "metadata": {},
   "outputs": [],
   "source": [
    "import os\n",
    "import sys\n",
    "\n",
    "import numpy as np\n",
    "import pandas as pd\n",
    "import scipy.stats\n",
    "import itertools\n",
    "\n",
    "%load_ext watermark\n"
   ]
  },
  {
   "cell_type": "code",
   "execution_count": 7,
   "id": "796fac59-3295-4d19-8b03-f815953378e2",
   "metadata": {},
   "outputs": [],
   "source": [
    "import eqtk"
   ]
  },
  {
   "cell_type": "code",
   "execution_count": 8,
   "id": "f9ac06aa-0570-4d78-9b42-f2a218c64a41",
   "metadata": {},
   "outputs": [],
   "source": [
    "#load some utility functions\n",
    "pwd = os.path.abspath('../../')\n",
    "sys.path.append(os.path.join(pwd, 'code/')) \n",
    "from utilities import *"
   ]
  },
  {
   "cell_type": "markdown",
   "id": "bcca5967-cae0-41c2-9e09-27221d52bbca",
   "metadata": {},
   "source": [
    "As in 20220420_sim1inputTitration_randomParams.ipynb notebook, simulate dimerization network with a single input monomer (i.e. $x \\in R$). This time use 10x as many initial concentrations (same range, smaller step size).  \n",
    "Use latin hypercube sampling (via https://docs.scipy.org/doc/scipy/reference/generated/scipy.stats.qmc.LatinHypercube.html) to draw $K$ values from the range ($10^{-6}$, $10^6$) and accessory monomer levels ($a$) from the range ($10^{-3}$, $10^3$).\n",
    "\n"
   ]
  },
  {
   "cell_type": "code",
   "execution_count": 9,
   "id": "995f0086-2f28-4b8e-89d2-4e0e75737037",
   "metadata": {},
   "outputs": [],
   "source": [
    "def sample_params(m, k, lb, ub, centered = True, seed = 42):\n",
    "    \"\"\"\n",
    "    For network of size m, sample k parameter sets (each parameter set includes Kij values and accessory monomer levels) \n",
    "    from log uniform latin hypercube with log10(lower bounds) = lb and log10(upper bounds) = ub. \n",
    "    \"\"\"\n",
    "    num_rxns = number_of_dimers(m)\n",
    "    num_params = num_rxns + m-1 #assuming 1-input monomer\n",
    "    lhs_sampler =  scipy.stats.qmc.LatinHypercube(d=num_params, centered=centered, seed=seed)\n",
    "    param_sets = lhs_sampler.random(n=k)\n",
    "    param_sets = scipy.stats.qmc.scale(param_sets, lb, ub)\n",
    "    return np.power(10, param_sets)\n"
   ]
  },
  {
   "cell_type": "code",
   "execution_count": 10,
   "id": "1c8ad99a-3bf7-49a4-b71a-48b26433ee5b",
   "metadata": {},
   "outputs": [],
   "source": [
    "def run_eqtk(N, C0, params, num_rxns, acc_monomer_ind):\n",
    "    \"\"\"\n",
    "    Run eqtk.solve given the input stoichiometry matrix (N), initial concentrations (C0), and parameters (params)\n",
    "    Parameters includes includes Kij values and accessory monomer levels. \n",
    "    \"\"\"\n",
    "    K = params[:num_rxns]\n",
    "    C0[:,acc_monomer_ind] = params[num_rxns:]\n",
    "\n",
    "    return eqtk.solve(c0=C0, N=N, K=K)\n",
    "\n"
   ]
  },
  {
   "cell_type": "code",
   "execution_count": 11,
   "id": "2e6dfb41-4792-43e3-8781-622b91c813bc",
   "metadata": {},
   "outputs": [],
   "source": [
    "def simulate_networks(m, t = 10, k = 100, n = 5, input_lb = -3, input_ub = 3, \n",
    "                      param_sets = None, param_lb = None, param_ub = None,\n",
    "                      centered = True, seed = 42, titrate_params = True, \n",
    "                      save = False, outfileprefix = ''):\n",
    "    \"\"\"\n",
    "    Run simulations for dimer networks of size m and input titration size t \n",
    "    with k different parameter universes. \n",
    "    \n",
    "    Parameters\n",
    "    ----------\n",
    "    m : int. \n",
    "        Number of monomer species. \n",
    "    t : int. Default 10. \n",
    "        Number of values to titrate the input monomer species. \n",
    "        Values spaced evenly on a log10 scale\n",
    "    k : int. Default 100\n",
    "        Number of parameter sets to sample. \n",
    "    n : int. Default 5. \n",
    "        If titrate_params = True, n indicates the number of values to titrate each parameter\n",
    "    input_lb : int. Default -3\n",
    "        lower bound for titrating the input monomer species. log10 scale\n",
    "    input_ub : int. Default 3\n",
    "        upper bound for titrating the input monomer species. log10 scale\n",
    "    param_sets : None or array_like shape (k, num_parameters). Default None. \n",
    "        Parameters sets for simulating dimerization networks. \n",
    "        If None, sample_params to draw parameters from latin-hypercube. \n",
    "    param_lb : array_like shape (num_parameters,) \n",
    "        Lower bounds for sampling network parameters. \n",
    "    param_ub : array_like shape (num_parameters,) \n",
    "        Upper bounds for sampling network parameters\n",
    "    centered : bool. Default True. \n",
    "        Indicates whether to center the draws from the latin-hypercube sampler\n",
    "    seed : int. Default 42. \n",
    "        seed for LHS sampler\n",
    "    titrate_params : Bool. Default True. \n",
    "        If true, then for each parameter universe, iterate through each parameter,\n",
    "        titrating it's value while hollding the remainig parameters fixed.  \n",
    "    save : Bool. Default False\n",
    "        If True, save the parameter sets, initial concentration array (C0) and equlibrium concentration array (S_all)\n",
    "    outfileprefix : string. Default ''\n",
    "        relative path for saving figure.     \n",
    "    Returns\n",
    "    -------\n",
    "    param_sets : array_like shape (k, num_parameters)\n",
    "        Each parameter set (row) contains the bindnig affinities (Kij) and \n",
    "        accessory monomer concentrations (a) use to solve for equilibrium concentrations of \n",
    "        monomers & dimers. \n",
    "    C0 : array_like shape (t, number of species)\n",
    "        Initial concentration array used for eqtk.solve\n",
    "    S_all : array_like \n",
    "        Equlibrium concentration of all species (monomers & dimers)\n",
    "        for all parameter sets. \n",
    "        If titrate_params = True then shape (t, num_species, k, num_params, n)\n",
    "        If titrate_params = False then shape then shape (t, num_species, k)\n",
    "        \n",
    "    \"\"\"\n",
    "    #Create stoichiometry matrix and initial concnetration matrix \n",
    "    N = make_nXn_stoich_matrix(m)\n",
    "    num_rxns = N.shape[0]\n",
    "    M0_min = [input_lb] + [0] * (m-1)\n",
    "    M0_max = [input_ub] + [0] * (m-1)\n",
    "    num_conc = [t] + [1] * (m-1)\n",
    "\n",
    "    C0 = make_C0_grid(m, M0_min=M0_min, M0_max=M0_max, num_conc=num_conc)\n",
    "    \n",
    "    num_params = num_rxns + (m-1)\n",
    "        \n",
    "    acc_monomer_ind = np.arange(1,m)\n",
    "    \n",
    "    #Parameter bounds for sampling and for titration\n",
    "    if param_lb is None:\n",
    "        param_lb = [-6]*num_rxns + [-3]*(m-1)\n",
    "\n",
    "    if param_ub is None:\n",
    "        param_ub = [6]*num_rxns + [3]*(m-1)\n",
    "            \n",
    "    if param_sets is None:\n",
    "        #Generate random parameter sets\n",
    "        param_sets = sample_params(m, k, param_lb, param_ub, centered=centered, seed=seed)\n",
    "    \n",
    "    if titrate_params:\n",
    "        S_all = np.zeros((C0.shape[0], C0.shape[1], k, num_params, n))\n",
    "        for pset_index in range(k):\n",
    "            for param_index in range(num_params):\n",
    "                pset_new = np.tile(param_sets[pset_index], (n, 1))\n",
    "                #Titrate param\n",
    "                param_titration = np.logspace(param_lb[param_index], param_ub[param_index], n)\n",
    "                pset_new[:,param_index] = param_titration\n",
    "\n",
    "                for titration_index in range(n):\n",
    "                    S_all[:,:,pset_index,param_index,titration_index] = run_eqtk(N, C0.copy(), pset_new[titration_index], num_rxns, acc_monomer_ind)\n",
    "        if save:\n",
    "            np.save(f'{outfileprefix}/param_sets_{m}M_{k}k_paramTitration.npy', param_sets)\n",
    "            np.save(f'{outfileprefix}/C0_{m}M_{k}k_paramTitration.npy', C0)\n",
    "            np.save(f'{outfileprefix}S_all_{m}M_{k}k_paramTitration.npy', S_all)\n",
    "    else:\n",
    "        S_all = np.zeros((C0.shape[0], C0.shape[1], k))\n",
    "        for pset_index, pset in enumerate(param_sets):\n",
    "            S_all[:,:,pset_index] = run_eqtk(N, C0.copy(), pset, num_rxns, acc_monomer_ind)\n",
    "        if save:\n",
    "            np.save(f'{outfileprefix}param_sets_{m}M_{k}k.npy', param_sets)\n",
    "            np.save(f'{outfileprefix}C0_{m}M_{k}k.npy', C0)\n",
    "            np.save(f'{outfileprefix}S_all_{m}M_{k}k.npy', S_all)\n",
    "    return param_sets, C0, S_all\n",
    "                "
   ]
  },
  {
   "cell_type": "markdown",
   "id": "c395ed9f-fbbf-492e-b995-d173ea906a22",
   "metadata": {},
   "source": [
    "Run simulations for networks with 3-6 monomer species. For each network size, sample 1000 different initial parameter sets."
   ]
  },
  {
   "cell_type": "code",
   "execution_count": 12,
   "id": "de76ca49-e6d9-4f24-ac18-e26a6c5997ec",
   "metadata": {},
   "outputs": [],
   "source": [
    "outfileprefix = '../../data/20220617_1input_randomParams_highRes/'\n",
    "if not os.path.isdir(outfileprefix):\n",
    "    os.mkdir(outfileprefix)\n",
    "    "
   ]
  },
  {
   "cell_type": "code",
   "execution_count": 25,
   "id": "3e0e33b2-42b7-448c-8f47-c8c65b0fa34a",
   "metadata": {},
   "outputs": [],
   "source": [
    "_, _, _ = simulate_networks(m = 3, t = 100, k = 1000, input_lb = -3, input_ub = 3, \n",
    "                            centered = True, seed = 42, titrate_params = False,\n",
    "                            save=True, outfileprefix=outfileprefix)\n"
   ]
  },
  {
   "cell_type": "code",
   "execution_count": 26,
   "id": "1fe09b5d-1412-4785-a8ab-07fc3f55f0fe",
   "metadata": {},
   "outputs": [],
   "source": [
    "_, _, _ = simulate_networks(m = 4, t = 100, k = 1000, input_lb = -3, input_ub = 3, \n",
    "                            centered = True, seed = 42, titrate_params = False,\n",
    "                            save=True, outfileprefix=outfileprefix)\n"
   ]
  },
  {
   "cell_type": "code",
   "execution_count": 27,
   "id": "30c3e720-49ac-46aa-9aac-71b024eab1e7",
   "metadata": {},
   "outputs": [],
   "source": [
    "_, _, _ = simulate_networks(m = 5, t = 100, k = 1000, input_lb = -3, input_ub = 3, \n",
    "                            centered = True, seed = 42, titrate_params = False,\n",
    "                            save=True, outfileprefix=outfileprefix)\n"
   ]
  },
  {
   "cell_type": "code",
   "execution_count": 28,
   "id": "33dffd48-2e85-46b6-a50e-66bd247f3360",
   "metadata": {},
   "outputs": [],
   "source": [
    "_, _, _ = simulate_networks(m = 6, t = 100, k = 1000, input_lb = -3, input_ub = 3, \n",
    "                            centered = True, seed = 42, titrate_params = False,\n",
    "                            save=True, outfileprefix=outfileprefix)\n"
   ]
  },
  {
   "cell_type": "code",
   "execution_count": 29,
   "id": "597625cf-74fd-4070-a76a-d86237274d6c",
   "metadata": {},
   "outputs": [
    {
     "name": "stdout",
     "output_type": "stream",
     "text": [
      "eqtk  : 0.1.2\n",
      "pandas: 1.4.1\n",
      "scipy : 1.7.3\n",
      "numpy : 1.20.3\n",
      "sys   : 3.9.7 (default, Sep 16 2021, 08:50:36) \n",
      "[Clang 10.0.0 ]\n",
      "\n"
     ]
    }
   ],
   "source": [
    "%watermark --iversions\n"
   ]
  },
  {
   "cell_type": "code",
   "execution_count": null,
   "id": "a18cd9d6-dc24-461c-9ab6-b66a454e2baf",
   "metadata": {},
   "outputs": [],
   "source": []
  }
 ],
 "metadata": {
  "kernelspec": {
   "display_name": "Python 3 (ipykernel)",
   "language": "python",
   "name": "python3"
  },
  "language_info": {
   "codemirror_mode": {
    "name": "ipython",
    "version": 3
   },
   "file_extension": ".py",
   "mimetype": "text/x-python",
   "name": "python",
   "nbconvert_exporter": "python",
   "pygments_lexer": "ipython3",
   "version": "3.9.7"
  }
 },
 "nbformat": 4,
 "nbformat_minor": 5
}
