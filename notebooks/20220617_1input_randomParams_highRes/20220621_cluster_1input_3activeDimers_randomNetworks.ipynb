{
 "cells": [
  {
   "cell_type": "code",
   "execution_count": 1,
   "id": "e16679dc-9b41-4fa0-b1ec-b4f0dc3ae81d",
   "metadata": {},
   "outputs": [],
   "source": [
    "import os\n",
    "import sys\n",
    "import numpy as np\n",
    "import pandas as pd\n",
    "import eqtk\n",
    "\n",
    "#For plotting\n",
    "import matplotlib as mpl\n",
    "import matplotlib.pyplot as plt\n",
    "import seaborn as sn\n",
    "import plotnine as p9 #easier for some things\n",
    "\n",
    "#For clustering\n",
    "from fastdist import fastdist\n",
    "import scipy.cluster.hierarchy as hcluster\n",
    "from scipy.cluster.vq import whiten\n",
    "from scipy.cluster.hierarchy import dendrogram, linkage, cut_tree\n",
    "from scipy.spatial.distance import pdist\n",
    "\n"
   ]
  },
  {
   "cell_type": "code",
   "execution_count": 2,
   "id": "97308763-83fc-43d3-8004-bb50b9a83aa8",
   "metadata": {},
   "outputs": [],
   "source": [
    "pwd = os.path.abspath('../..')\n",
    "sys.path.append(os.path.join(pwd, 'code/')) \n",
    "import utilities\n",
    "from utilities import *"
   ]
  },
  {
   "cell_type": "code",
   "execution_count": 3,
   "id": "27cc5d81-02b8-4323-8480-f09964478b45",
   "metadata": {},
   "outputs": [],
   "source": [
    "#Set plotting defaults\n",
    "sn.set_style('ticks')\n",
    "mpl.rcParams.update({'text.color': 'black', 'axes.labelcolor': 'black', \n",
    "                     'xtick.color': 'black', 'ytick.color': 'black', 'figure.dpi':100, 'savefig.dpi':300,\n",
    "                     'savefig.bbox': 'tight', 'savefig.transparent': True, 'mathtext.default':'regular'})\n",
    "sn.set_context('notebook')\n",
    "%matplotlib inline\n",
    "%config InlineBackend.figure_format='retina'"
   ]
  },
  {
   "cell_type": "code",
   "execution_count": 4,
   "id": "2916563c-cdb4-4ea7-a408-a607732d7240",
   "metadata": {},
   "outputs": [],
   "source": [
    "def scale_axis(mat, axis=0):\n",
    "    mat_mn = np.expand_dims(mat.mean(axis = axis), axis)\n",
    "    mat_sd = np.expand_dims(mat.std(axis = 0), axis)\n",
    "    mat_scaled = (mat - mat_mn)/mat_sd\n",
    "    return mat_scaled"
   ]
  },
  {
   "cell_type": "markdown",
   "id": "63f591c6-0d6a-4350-9ee4-7d0dd52d1dcf",
   "metadata": {},
   "source": [
    "Perform hierarchical clustering on the outputs from 1-input dimer networks of various sizes (3-6 monomers)\n",
    "all simulated with the same output weights (see bottom of 20220617_sim1input_randomOutputWeights_highRes.ipynb). \n",
    "\n",
    "Run clustering on each parameter universe seperately since it will take too long to compute distances on 1000 universes X 1000 output weights. \n",
    "\n",
    "Save intermediate distance and linkage array in case we decide to change methods or thresholds later. "
   ]
  },
  {
   "cell_type": "code",
   "execution_count": 5,
   "id": "51eaefc5-22ff-4737-8e10-d8efb6dd522a",
   "metadata": {},
   "outputs": [],
   "source": [
    "#Using scipy for now. Later for efficiency, can write jitted distance function. Note, underwhelming performance with fastdist package\n",
    "def hc_mat(mat, scale=False, axis=0, dist_metric='euclidean',\n",
    "           link_method='centroid', cluster_criterion='distance', \n",
    "           threshold=3):\n",
    "    \"\"\"\n",
    "    \"\"\"\n",
    "    if scale:\n",
    "        mat = scale_axis(mat, axis=axis)\n",
    "    \n",
    "    mat_dist = pdist(mat.T, metric=dist_metric)\n",
    "    mat_link = hcluster.linkage(mat_dist, method=link_method)\n",
    "    mat_cluters = hcluster.fcluster(mat_link, threshold, criterion=cluster_criterion)\n",
    "    return mat_dist, mat_link, mat_cluters"
   ]
  },
  {
   "cell_type": "code",
   "execution_count": 6,
   "id": "28ddb2cc-c7c3-4290-a093-90543f45d7aa",
   "metadata": {},
   "outputs": [],
   "source": [
    "indir = '../../data/20220617_1input_randomParams_highRes/'\n",
    "outdir = '../../data/20220617_1input_randomParams_highRes/hierarchical_clustering/'\n",
    "\n"
   ]
  },
  {
   "cell_type": "code",
   "execution_count": 7,
   "id": "258c4c80-7542-47f3-afad-8e22beca191e",
   "metadata": {},
   "outputs": [],
   "source": [
    "# Loop through different size networks then through all universes within each network\n",
    "dist_all = [0]*4\n",
    "link_all = [0]*4\n",
    "clusters_all = [0]*4\n",
    "\n",
    "for m in range(3,7):\n",
    "    outmat = np.load(f'{indir}output_{m}M_3activeDimers_1000k.npy')\n",
    "    n_univ = outmat.shape[1]\n",
    "    dist_combined = [0]*n_univ\n",
    "    link_combined = [0]*n_univ\n",
    "    clusters_combined = [0]*n_univ\n",
    "    for univ in range(n_univ):\n",
    "        dist_mat, link_mat, clusters = hc_mat(outmat[:,univ,:], scale=True, axis=0, dist_metric='euclidean',\n",
    "                                          link_method='centroid', cluster_criterion='distance',\n",
    "                                          threshold=3)\n",
    "        dist_combined[univ] = dist_mat\n",
    "        link_combined[univ] = link_mat\n",
    "        clusters_combined[univ] = clusters\n",
    "    \n",
    "    dist_all[m-3] = np.stack(dist_combined)\n",
    "    link_all[m-3] = np.stack(link_combined)\n",
    "    clusters_all[m-3] = np.stack(clusters_combined)\n",
    "    #save data\n",
    "    np.save(os.path.join(outdir, f'hc_{m}M_3activeDimers_{n_univ}univ_dist.npy'), dist_all[m-3])\n",
    "    np.save(os.path.join(outdir, f'hc_{m}M_3activeDimers_{n_univ}univ_linkage.npy'), link_all[m-3])\n",
    "    np.save(os.path.join(outdir, f'hc_{m}M_3activeDimers_{n_univ}univ_clusters_thresh{3}.npy'), clusters_all[m-3])\n",
    "\n",
    "    \n"
   ]
  },
  {
   "cell_type": "markdown",
   "id": "c219617b-65fc-4aab-996b-680db47e95fd",
   "metadata": {},
   "source": [
    "Are there a greater number of clusters for certain parameter universes? \n",
    "Do certain parameter universes generate more distinct clusters? \n",
    "For the latter question, calculate the average curve for each cluster (within each universe)\n",
    "then compute distances between average curves and see which universes have the largest (mean?) distance between\n",
    "average curves. "
   ]
  },
  {
   "cell_type": "code",
   "execution_count": 8,
   "id": "ea4fe834-f0f0-435c-aa16-bd55ab7cc2be",
   "metadata": {},
   "outputs": [],
   "source": [
    "cluster_counts_all = [0] * 4\n",
    "cluster_basis_all = [0] * 4\n",
    "for m in range(4):\n",
    "    clusters_mat = clusters_all[m]\n",
    "    cluster_counts = np.apply_along_axis(lambda x: len(np.unique(x)), 1, clusters_mat)\n",
    "    cluster_counts_all[m] = cluster_counts\n",
    "    \n",
    "    #Now compute basis curves\n",
    "    outmat = np.load(os.path.join(indir, f'output_{m+3}M_3activeDimers_1000k.npy'))\n",
    "\n",
    "    n_univ = clusters_all[m].shape[0]\n",
    "    basis_combined = [0]*n_univ\n",
    "    for univ in range(n_univ):\n",
    "        outmat_scaled = scale_axis(outmat[:,univ,:], axis = 0)\n",
    "        cluster_labels = clusters_mat[univ,:]\n",
    "        clusters = np.unique(cluster_labels)\n",
    "        basis = np.zeros((len(clusters), outmat_scaled.shape[0]))\n",
    "        for i, clust in enumerate(clusters):\n",
    "            cluster_ind = np.nonzero(cluster_labels == clust)[0]\n",
    "            outmat_clust = outmat_scaled[:,cluster_ind]\n",
    "            basis[i,:] = outmat_clust.mean(axis=1)\n",
    "        basis_combined[univ] = basis\n",
    "    \n",
    "    cluster_basis_all[m] = basis_combined"
   ]
  },
  {
   "cell_type": "code",
   "execution_count": 9,
   "id": "3981fde1-fde5-4257-af04-6bf3b7f2d69e",
   "metadata": {},
   "outputs": [],
   "source": [
    "cluster_counts_df = pd.DataFrame(np.vstack(cluster_counts_all).T, columns=[f'M={i}' for i in range(3,7)])\n",
    "cluster_counts_df['univ'] = cluster_counts_df.index\n",
    "cluster_counts_df_long = cluster_counts_df.melt(id_vars='univ', var_name='network_size', value_name='n_clusters')"
   ]
  },
  {
   "cell_type": "code",
   "execution_count": 21,
   "id": "e8405c24-c0ed-4fb0-bc0f-32335843e352",
   "metadata": {},
   "outputs": [
    {
     "name": "stderr",
     "output_type": "stream",
     "text": [
      "/Users/benjaminemert/miniconda3/envs/py39/lib/python3.9/site-packages/plotnine/ggplot.py:719: PlotnineWarning: Saving 6.4 x 4.8 in image.\n",
      "/Users/benjaminemert/miniconda3/envs/py39/lib/python3.9/site-packages/plotnine/ggplot.py:722: PlotnineWarning: Filename: ../../plots/20220617_1input_randomParams_highRes/hierarchical_clustering/hc_num_cluster_histogram_3activeDimers_thresh3.pdf\n",
      "/Users/benjaminemert/miniconda3/envs/py39/lib/python3.9/site-packages/plotnine/utils.py:371: FutureWarning: The frame.append method is deprecated and will be removed from pandas in a future version. Use pandas.concat instead.\n"
     ]
    }
   ],
   "source": [
    "p = (p9.ggplot(cluster_counts_df_long, p9.aes(x='n_clusters'))\n",
    " + p9.geom_histogram(binwidth = 1)\n",
    " + p9.theme_classic()\n",
    " + p9.facet_wrap('~network_size', nrow=1)\n",
    " + p9.xlab('number of clusters')\n",
    " + p9.theme(axis_text=p9.element_text(color='black'),\n",
    "           aspect_ratio=1, strip_background=p9.element_blank()))\n",
    "p.save('../../plots/20220617_1input_randomParams_highRes/hierarchical_clustering/hc_num_cluster_histogram_3activeDimers_thresh3.pdf')\n"
   ]
  },
  {
   "cell_type": "markdown",
   "id": "63f6e528-b6f2-433f-9dc1-c38b330a6995",
   "metadata": {},
   "source": [
    "Try larger threshold"
   ]
  },
  {
   "cell_type": "code",
   "execution_count": 12,
   "id": "65eee404-2e07-446f-ad07-b00197a49c16",
   "metadata": {},
   "outputs": [],
   "source": [
    "thresh = 5\n",
    "clusters_all_5 = [0]*4\n",
    "n_univ = 1000\n",
    "for m in range(4):\n",
    "    clusters_combined = [0]*n_univ\n",
    "    for univ in range(n_univ):\n",
    "        clusters_combined[univ] = hcluster.fcluster(link_all[m][univ,:,:], thresh, criterion='distance')\n",
    "    clusters_all_5[m] = np.stack(clusters_combined)\n"
   ]
  },
  {
   "cell_type": "code",
   "execution_count": 13,
   "id": "428c191d-8c2b-4135-8571-e54a434dd5c6",
   "metadata": {},
   "outputs": [],
   "source": [
    "cluster_counts_all_5 = [0] * 4\n",
    "for m in range(4):\n",
    "    clusters_mat = clusters_all_5[m]\n",
    "    cluster_counts = np.apply_along_axis(lambda x: len(np.unique(x)), 1, clusters_mat)\n",
    "    cluster_counts_all_5[m] = cluster_counts\n",
    "\n",
    "    \n",
    "cluster_counts_5_df = pd.DataFrame(np.vstack(cluster_counts_all_5).T, columns=[f'M={i}' for i in range(3,7)])\n",
    "cluster_counts_5_df['univ'] = cluster_counts_5_df.index\n",
    "cluster_counts_5_df_long = cluster_counts_5_df.melt(id_vars='univ', var_name='network_size', value_name='n_clusters')  "
   ]
  },
  {
   "cell_type": "code",
   "execution_count": 14,
   "id": "b25dfab7-28b0-4417-8613-b84b7bf548b6",
   "metadata": {},
   "outputs": [
    {
     "name": "stderr",
     "output_type": "stream",
     "text": [
      "/Users/benjaminemert/miniconda3/envs/py39/lib/python3.9/site-packages/plotnine/utils.py:371: FutureWarning: The frame.append method is deprecated and will be removed from pandas in a future version. Use pandas.concat instead.\n"
     ]
    },
    {
     "data": {
      "image/png": "[encoded data removed]",
      "text/plain": [
       "<Figure size 640x154.221 with 4 Axes>"
      ]
     },
     "metadata": {
      "image/png": {
       "height": 187,
       "width": 566
      }
     },
     "output_type": "display_data"
    },
    {
     "data": {
      "text/plain": [
       "<ggplot: (8760483789069)>"
      ]
     },
     "execution_count": 14,
     "metadata": {},
     "output_type": "execute_result"
    }
   ],
   "source": [
    "(p9.ggplot(cluster_counts_5_df_long, p9.aes(x='n_clusters'))\n",
    " + p9.geom_histogram(binwidth = 3)\n",
    " + p9.theme_classic()\n",
    " + p9.facet_wrap('~network_size', nrow=1)\n",
    " + p9.xlab('number of clusters')\n",
    " + p9.theme(axis_text=p9.element_text(color='black'),\n",
    "           aspect_ratio=1, strip_background=p9.element_blank()))\n",
    "# p.save('../../plots/20220617_1input_randomParams_highRes/hierarchical_clustering/hc_num_cluster_histogram_thresh5.pdf')\n"
   ]
  },
  {
   "cell_type": "code",
   "execution_count": 47,
   "id": "25d735d6-de14-4cd2-b171-1ac9f2ab87b1",
   "metadata": {},
   "outputs": [],
   "source": [
    "def plot_outcurves_clustered2(outmat, cluster_labels, shaded='max-min', clusters = None, \n",
    "                             percentiles=(0.05, 0.95), sample_n = 10, xticks = [0,4,9],\n",
    "                             xticklabels = [-3,0,3], add_legend = False, plot_width=7, plot_height=10):\n",
    "    \"\"\"\n",
    "    \"\"\"\n",
    "    if clusters is None: #plot all clusters  \n",
    "        clusters = np.unique(cluster_labels)\n",
    "    \n",
    "    n_clusters = len(clusters)    \n",
    "    # n_outweights = outmat.shape[2]\n",
    "    n_titration = outmat.shape[0]\n",
    "    \n",
    "    xticklabels = [f'$10^{{{i}}}$' for i in xticklabels]\n",
    "    fig, axes = plt.subplots(2, n_clusters, figsize=(n_clusters*plot_width, plot_height), squeeze=False, constrained_layout=True)\n",
    "    for i, clust in enumerate(clusters):\n",
    "        cluster_ind = np.nonzero(cluster_labels == clust)[0]\n",
    "        outmat_clust = outmat[:,cluster_ind]\n",
    "        clust_percent = np.round(outmat_clust.shape[1]/outmat.shape[1] * 100, 2)\n",
    "        \n",
    "        #Plot cluster average on the top row\n",
    "        cluster_mean = outmat_clust.mean(axis=1)\n",
    "\n",
    "        if shaded == 'max-min':\n",
    "            cluster_lb = outmat_clust.min(axis=1)\n",
    "            cluster_ub = outmat_clust.max(axis=1)\n",
    "            label = 'max-min'\n",
    "        elif shaded == 'percentile':\n",
    "            cluster_lb = np.percentile(outmat_clust, percentiles[0], axis = 1)\n",
    "            cluster_ub = np.percentile(outmat_clust, percentiles[1], axis = 1)\n",
    "            label = f'{percentiles[0]}-{percentiles[1]} percentile'\n",
    "\n",
    "        axes[(0,i)].plot(np.arange(n_titration), cluster_mean, label='average')\n",
    "        axes[(0,i)].fill_between(np.arange(n_titration), cluster_lb, cluster_ub, alpha=0.2, label=label)\n",
    "        \n",
    "        #plot example curves on the bottom row\n",
    "        if sample_n is not None and sample_n < outmat_clust.shape[1]:\n",
    "            rand_ind = np.random.choice(np.arange(outmat_clust.shape[1]), size=sample_n, replace=False)\n",
    "            outmat_clust = outmat_clust[:,rand_ind]\n",
    "        for j in range(outmat_clust.shape[1]):\n",
    "            axes[(1,i)].plot(np.arange(n_titration), outmat_clust[:,j])\n",
    "        \n",
    "        #Format axes\n",
    "        axes[(0,i)].set(ylabel='out',xticks = xticks, xticklabels = xticklabels,\n",
    "                        title=f'cluster: {clust}, {clust_percent}%')\n",
    "        axes[(1,i)].set(ylabel='out',xticks = xticks, xticklabels = xticklabels,\n",
    "                        title=f'example curves:')\n",
    "        if add_legend:\n",
    "                axes[(0,i)].legend(bbox_to_anchor=(1.05, 1), loc=2, borderaxespad=0)\n",
    "\n",
    "    return fig, axes\n",
    "        "
   ]
  },
  {
   "cell_type": "code",
   "execution_count": 25,
   "id": "9b5e9603-c4cd-4e2d-83ea-244049d20843",
   "metadata": {},
   "outputs": [],
   "source": [
    "univ_rand10 = np.random.choice(np.arange(1000), 10, replace=False)\n",
    "\n",
    "for m in range(4):\n",
    "    outmat = np.load(f'../../data/20220617_1input_randomParams_highRes/output_{m+3}M_3activeDimers_1000k.npy')\n",
    "    \n",
    "    clusters = clusters_all[m]\n",
    "    for univ in univ_rand10:\n",
    "        outmat_scaled = scale_axis(outmat[:,univ,:])\n",
    "        \n",
    "        fig1, axes1 = plot_outcurves_clustered2(outmat_scaled, clusters[univ,:], \n",
    "                                               shaded='max-min',\n",
    "                                               xticks = [0,49,99],\n",
    "                                               xticklabels = [-3,0,3], add_legend = True)\n",
    "        fig1.suptitle(f'Universe {univ}')\n",
    "        fig1.savefig(f'../../plots/20220617_1input_randomParams_highRes/hierarchical_clustering/hc_curves_{m+3}M_univ{univ}_3activeDimers_thresh3.pdf')\n",
    "        plt.close()\n"
   ]
  },
  {
   "cell_type": "markdown",
   "id": "d977394c-6bd1-4898-9c2d-de64dd31525b",
   "metadata": {},
   "source": [
    "Compute meta clusters"
   ]
  },
  {
   "cell_type": "code",
   "execution_count": 36,
   "id": "880cb748-b690-4a10-a7f6-da3662190fdb",
   "metadata": {},
   "outputs": [],
   "source": [
    "meta_link_all_thresh3 = [0]*4\n",
    "meta_clust_all_thresh3 = [0]*4\n",
    "for m in range(4):\n",
    "    cluster_basis_combined = np.vstack(cluster_basis_all[m])\n",
    "    \n",
    "    meta_dist_combined, meta_link_combined, meta_clust_combined = \\\n",
    "    hc_mat(cluster_basis_combined.T, scale=False, threshold=3)\n",
    "    \n",
    "    #save data\n",
    "    meta_link_all_thresh3[m] = meta_link_combined\n",
    "    meta_clust_all_thresh3[m] = meta_clust_combined\n",
    "    \n",
    "    np.save(os.path.join(outdir, f'hc_{m+3}M_3activeDimers_meta_dist_thresh3.npy'), meta_dist_combined)\n",
    "    np.save(os.path.join(outdir, f'hc_{m+3}M_3activeDimers_meta_linkage_thresh3.npy'), meta_link_combined)\n",
    "    np.save(os.path.join(outdir, f'hc_{m+3}M_3activeDimers_meta_clusters_thresh3.npy'), meta_clust_combined)"
   ]
  },
  {
   "cell_type": "markdown",
   "id": "6c5b114c-02f9-4870-8606-882a15309c10",
   "metadata": {},
   "source": [
    "Count the number of meta cluster across different network sizes"
   ]
  },
  {
   "cell_type": "code",
   "execution_count": 37,
   "id": "bb52a9fc-2711-4a39-b9fd-4292485e1107",
   "metadata": {},
   "outputs": [],
   "source": [
    "meta_clust_count_df = pd.DataFrame({'network_size': [f'm={i+3}' for i in range(4)], \n",
    "                                    'n_clusters':[i.max() for i in meta_clust_all_thresh3]})"
   ]
  },
  {
   "cell_type": "code",
   "execution_count": 39,
   "id": "43baef57-b691-47f2-aa44-bb69a030e517",
   "metadata": {},
   "outputs": [
    {
     "name": "stderr",
     "output_type": "stream",
     "text": [
      "/Users/benjaminemert/miniconda3/envs/py39/lib/python3.9/site-packages/plotnine/ggplot.py:719: PlotnineWarning: Saving 6.4 x 4.8 in image.\n",
      "/Users/benjaminemert/miniconda3/envs/py39/lib/python3.9/site-packages/plotnine/ggplot.py:722: PlotnineWarning: Filename: ../../plots/20220617_1input_randomParams_highRes/hierarchical_clustering/hc_num_metaClusters_histogram_3activeDimers_thresh3.pdf\n"
     ]
    }
   ],
   "source": [
    "p=(p9.ggplot(meta_clust_count_df, p9.aes(x='network_size', y='n_clusters'))\n",
    " +p9.geom_bar(stat='identity')\n",
    " +p9.theme_classic()\n",
    " +p9.ylab('number of meta clusters')\n",
    " +p9.xlab('network size')\n",
    " +p9.theme(axis_text=p9.element_text(color='black')))\n",
    "p.save('../../plots/20220617_1input_randomParams_highRes/hierarchical_clustering/hc_num_metaClusters_histogram_3activeDimers_thresh3.pdf')\n"
   ]
  },
  {
   "cell_type": "markdown",
   "id": "d11a377a-18d0-4ea4-9f0c-72281a589ad0",
   "metadata": {},
   "source": [
    "Plot random meta clusters"
   ]
  },
  {
   "cell_type": "code",
   "execution_count": null,
   "id": "c1c30034-cc71-4672-bf47-f8525fb07f81",
   "metadata": {},
   "outputs": [],
   "source": [
    "for m in range(4):\n",
    "    clust_rand10 = np.random.choice(np.arange(meta_clust_3randAD_all_thresh3[m].max()), 10, replace=False)\n",
    "    \n",
    "    cluster_basis_combined = np.vstack(cluster_basis_3randAD_all[m])\n",
    "    \n",
    "    fig1, axes1 = plot_outcurves_clustered2(cluster_basis_combined.T, \n",
    "                                            meta_clust_3randAD_all_thresh3[m],\n",
    "                                            clusters=clust_rand10, shaded='max-min', xticks = [0,49,99],\n",
    "                                            xticklabels = [-3,0,3], add_legend = True)\n",
    "    fig1.savefig(f'../../plots/20220617_1input_randomParams_highRes/hierarchical_clustering/hc_curves_{m+3}M_3randomActiveDimers_metaclusters_thresh3.pdf')\n",
    "    plt.close()"
   ]
  },
  {
   "cell_type": "markdown",
   "id": "7365b0e9-a5a8-4513-b2e5-b5d3d7515d8c",
   "metadata": {},
   "source": [
    "Now try with output from random networks allowing the choice of active dimers to vary"
   ]
  },
  {
   "cell_type": "code",
   "execution_count": 20,
   "id": "43d33b97-b9c6-4665-9b46-887913a3e65b",
   "metadata": {},
   "outputs": [],
   "source": [
    "dist_all = [0]*4\n",
    "link_all = [0]*4\n",
    "clusters_all = [0]*4\n",
    "\n",
    "for m in range(3,7):\n",
    "    outmat = np.load(f'{indir}output_{m}M_3randomActiveDimers_1000k.npy')\n",
    "    n_univ = outmat.shape[1]\n",
    "    dist_combined = [0]*n_univ\n",
    "    link_combined = [0]*n_univ\n",
    "    clusters_combined = [0]*n_univ\n",
    "    for univ in range(n_univ):\n",
    "        dist_mat, link_mat, clusters = hc_mat(outmat[:,univ,:], scale=True, axis=0, dist_metric='euclidean',\n",
    "                                          link_method='centroid', cluster_criterion='distance',\n",
    "                                          threshold=3)\n",
    "        dist_combined[univ] = dist_mat\n",
    "        link_combined[univ] = link_mat\n",
    "        clusters_combined[univ] = clusters\n",
    "    \n",
    "    dist_all[m-3] = np.stack(dist_combined)\n",
    "    link_all[m-3] = np.stack(link_combined)\n",
    "    clusters_all[m-3] = np.stack(clusters_combined)\n",
    "    #save data\n",
    "    np.save(os.path.join(outdir, f'hc_{m}M_3randomActiveDimers_{n_univ}univ_dist.npy'), dist_all[m-3])\n",
    "    np.save(os.path.join(outdir, f'hc_{m}M_3randomActiveDimers_{n_univ}univ_linkage.npy'), link_all[m-3])\n",
    "    np.save(os.path.join(outdir, f'hc_{m}M_3randomActiveDimers_{n_univ}univ_clusters_thresh{3}.npy'), clusters_all[m-3])\n",
    "\n",
    "    \n"
   ]
  },
  {
   "cell_type": "code",
   "execution_count": 22,
   "id": "57461031-1257-4d59-b942-bdf8bb456c3c",
   "metadata": {},
   "outputs": [],
   "source": [
    "cluster_counts_3randAD_all = [0] * 4\n",
    "cluster_basis_3randAD_all = [0] * 4\n",
    "for m in range(4):\n",
    "    clusters_mat = clusters_all[m]\n",
    "    cluster_counts = np.apply_along_axis(lambda x: len(np.unique(x)), 1, clusters_mat)\n",
    "    cluster_counts_3randAD_all[m] = cluster_counts\n",
    "    \n",
    "    #Now compute basis curves\n",
    "    outmat = np.load(os.path.join(indir, f'output_{m+3}M_3randomActiveDimers_1000k.npy'))\n",
    "\n",
    "    n_univ = clusters_all[m].shape[0]\n",
    "    basis_combined = [0]*n_univ\n",
    "    for univ in range(n_univ):\n",
    "        outmat_scaled = scale_axis(outmat[:,univ,:], axis = 0)\n",
    "        cluster_labels = clusters_mat[univ,:]\n",
    "        clusters = np.unique(cluster_labels)\n",
    "        basis = np.zeros((len(clusters), outmat_scaled.shape[0]))\n",
    "        for i, clust in enumerate(clusters):\n",
    "            cluster_ind = np.nonzero(cluster_labels == clust)[0]\n",
    "            outmat_clust = outmat_scaled[:,cluster_ind]\n",
    "            basis[i,:] = outmat_clust.mean(axis=1)\n",
    "        basis_combined[univ] = basis\n",
    "    \n",
    "    cluster_basis_3randAD_all[m] = basis_combined"
   ]
  },
  {
   "cell_type": "code",
   "execution_count": 23,
   "id": "eee2378e-308e-451b-87d8-0d7cf3658835",
   "metadata": {},
   "outputs": [],
   "source": [
    "cluster_counts_3randAD_df = pd.DataFrame(np.vstack(cluster_counts_3randAD_all).T, columns=[f'M={i}' for i in range(3,7)])\n",
    "cluster_counts_3randAD_df['univ'] = cluster_counts_3randAD_df.index\n",
    "cluster_counts_3randAD_df_long = cluster_counts_3randAD_df.melt(id_vars='univ', var_name='network_size', value_name='n_clusters')"
   ]
  },
  {
   "cell_type": "code",
   "execution_count": 24,
   "id": "25efb992-032d-4a14-828d-b9e9fda6b17e",
   "metadata": {},
   "outputs": [
    {
     "name": "stderr",
     "output_type": "stream",
     "text": [
      "/Users/benjaminemert/miniconda3/envs/py39/lib/python3.9/site-packages/plotnine/ggplot.py:719: PlotnineWarning: Saving 6.4 x 4.8 in image.\n",
      "/Users/benjaminemert/miniconda3/envs/py39/lib/python3.9/site-packages/plotnine/ggplot.py:722: PlotnineWarning: Filename: ../../plots/20220617_1input_randomParams_highRes/hierarchical_clustering/hc_num_cluster_histogram_3randomActiveDimers_thresh3.pdf\n",
      "/Users/benjaminemert/miniconda3/envs/py39/lib/python3.9/site-packages/plotnine/utils.py:371: FutureWarning: The frame.append method is deprecated and will be removed from pandas in a future version. Use pandas.concat instead.\n"
     ]
    }
   ],
   "source": [
    "p = (p9.ggplot(cluster_counts_3randAD_df_long, p9.aes(x='n_clusters'))\n",
    " + p9.geom_histogram(binwidth = 1)\n",
    " + p9.theme_classic()\n",
    " + p9.facet_wrap('~network_size', nrow=1)\n",
    " + p9.xlab('number of clusters')\n",
    " + p9.theme(axis_text=p9.element_text(color='black'),\n",
    "           aspect_ratio=1, strip_background=p9.element_blank()))\n",
    "p.save('../../plots/20220617_1input_randomParams_highRes/hierarchical_clustering/hc_num_cluster_histogram_3randomActiveDimers_thresh3.pdf')\n"
   ]
  },
  {
   "cell_type": "code",
   "execution_count": 26,
   "id": "52bda124-98ab-4492-8c9d-d1645bfc3c09",
   "metadata": {},
   "outputs": [],
   "source": [
    "univ_rand10 = np.random.choice(np.arange(1000), 10, replace=False)\n",
    "\n",
    "for m in range(4):\n",
    "    outmat = np.load(f'../../data/20220617_1input_randomParams_highRes/output_{m+3}M_3randomActiveDimers_1000k.npy')\n",
    "    \n",
    "    clusters = clusters_all[m]\n",
    "    for univ in univ_rand10:\n",
    "        outmat_scaled = scale_axis(outmat[:,univ,:])\n",
    "        \n",
    "        fig1, axes1 = plot_outcurves_clustered2(outmat_scaled, clusters[univ,:], \n",
    "                                               shaded='max-min',\n",
    "                                               xticks = [0,49,99],\n",
    "                                               xticklabels = [-3,0,3], add_legend = True)\n",
    "        fig1.suptitle(f'Universe {univ}')\n",
    "        fig1.savefig(f'../../plots/20220617_1input_randomParams_highRes/hierarchical_clustering/hc_curves_{m+3}M_univ{univ}_3randomActiveDimers_thresh3.pdf')\n",
    "        plt.close()\n"
   ]
  },
  {
   "cell_type": "markdown",
   "id": "459e40c5-2cf9-469f-b97a-fcd8698cb972",
   "metadata": {},
   "source": [
    "Compute meta clusters"
   ]
  },
  {
   "cell_type": "code",
   "execution_count": 40,
   "id": "e3b86182-d1c4-4baa-a672-d2dd15c7a1ab",
   "metadata": {},
   "outputs": [],
   "source": [
    "meta_link_3randAD_all_thresh3 = [0]*4\n",
    "meta_clust_3randAD_all_thresh3 = [0]*4\n",
    "for m in range(4):\n",
    "    cluster_basis_3randAD_combined = np.vstack(cluster_basis_3randAD_all[m])\n",
    "    \n",
    "    meta_dist_combined, meta_link_combined, meta_clust_combined = \\\n",
    "    hc_mat(cluster_basis_3randAD_combined.T, scale=False, threshold=3)\n",
    "    \n",
    "    #save data\n",
    "    meta_link_3randAD_all_thresh3[m] = meta_link_combined\n",
    "    meta_clust_3randAD_all_thresh3[m] = meta_clust_combined\n",
    "    \n",
    "    np.save(os.path.join(outdir, f'hc_{m+3}M_3randomActiveDimers_meta_dist_thresh3.npy'), meta_dist_combined)\n",
    "    np.save(os.path.join(outdir, f'hc_{m+3}M_3randomActiveDimers_meta_linkage_thresh3.npy'), meta_link_combined)\n",
    "    np.save(os.path.join(outdir, f'hc_{m+3}M_3randomActiveDimers_meta_clusters_thresh3.npy'), meta_clust_combined)"
   ]
  },
  {
   "cell_type": "code",
   "execution_count": 41,
   "id": "fd955408-0f04-4aab-b55b-2a43ee43aa2d",
   "metadata": {},
   "outputs": [],
   "source": [
    "meta_clust_count_3randAD_df = pd.DataFrame({'network_size': [f'm={i+3}' for i in range(4)], \n",
    "                                    'n_clusters':[i.max() for i in meta_clust_3randAD_all_thresh3]})"
   ]
  },
  {
   "cell_type": "code",
   "execution_count": 45,
   "id": "eccacb88-b5a6-4e37-ac88-5715d1d295be",
   "metadata": {},
   "outputs": [
    {
     "name": "stderr",
     "output_type": "stream",
     "text": [
      "/Users/benjaminemert/miniconda3/envs/py39/lib/python3.9/site-packages/plotnine/ggplot.py:719: PlotnineWarning: Saving 6.4 x 4.8 in image.\n",
      "/Users/benjaminemert/miniconda3/envs/py39/lib/python3.9/site-packages/plotnine/ggplot.py:722: PlotnineWarning: Filename: ../../plots/20220617_1input_randomParams_highRes/hierarchical_clustering/hc_num_metaClusters_histogram_3randomActiveDimers_thresh3.pdf\n"
     ]
    }
   ],
   "source": [
    "p=(p9.ggplot(meta_clust_count_3randAD_df, p9.aes(x='network_size', y='n_clusters'))\n",
    " +p9.geom_bar(stat='identity')\n",
    " +p9.theme_classic()\n",
    " +p9.ylab('number of meta clusters')\n",
    " +p9.xlab('network size')\n",
    " +p9.theme(axis_text=p9.element_text(color='black')))\n",
    "p.save('../../plots/20220617_1input_randomParams_highRes/hierarchical_clustering/hc_num_metaClusters_histogram_3randomActiveDimers_thresh3.pdf')\n"
   ]
  },
  {
   "cell_type": "code",
   "execution_count": 48,
   "id": "e30a60c6-4a41-45ec-bf07-fdb69cdbd99f",
   "metadata": {},
   "outputs": [],
   "source": [
    "\n",
    "for m in range(4):\n",
    "    clust_rand10 = np.random.choice(np.arange(meta_clust_3randAD_all_thresh3[m].max()), 10, replace=False)\n",
    "    \n",
    "    cluster_basis_combined = np.vstack(cluster_basis_3randAD_all[m])\n",
    "    \n",
    "    fig1, axes1 = plot_outcurves_clustered2(cluster_basis_combined.T, \n",
    "                                            meta_clust_3randAD_all_thresh3[m],\n",
    "                                            clusters=clust_rand10, shaded='max-min', xticks = [0,49,99],\n",
    "                                            xticklabels = [-3,0,3], add_legend = True)\n",
    "    fig1.savefig(f'../../plots/20220617_1input_randomParams_highRes/hierarchical_clustering/hc_curves_{m+3}M_3randomActiveDimers_metaclusters_thresh3.pdf')\n",
    "    plt.close()\n"
   ]
  },
  {
   "cell_type": "code",
   "execution_count": null,
   "id": "28e754e9-1c6e-46d5-bd9b-264e9f37a283",
   "metadata": {},
   "outputs": [],
   "source": []
  }
 ],
 "metadata": {
  "kernelspec": {
   "display_name": "Python 3 (ipykernel)",
   "language": "python",
   "name": "python3"
  },
  "language_info": {
   "codemirror_mode": {
    "name": "ipython",
    "version": 3
   },
   "file_extension": ".py",
   "mimetype": "text/x-python",
   "name": "python",
   "nbconvert_exporter": "python",
   "pygments_lexer": "ipython3",
   "version": "3.9.7"
  }
 },
 "nbformat": 4,
 "nbformat_minor": 5
}
